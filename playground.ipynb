{
 "cells": [
  {
   "cell_type": "code",
   "execution_count": 3,
   "metadata": {
    "collapsed": true
   },
   "outputs": [
    {
     "data": {
      "text/plain": [
       "0.112752"
      ]
     },
     "execution_count": 3,
     "metadata": {},
     "output_type": "execute_result"
    }
   ],
   "source": [
    "import pandas\n",
    "import math\n",
    "\n",
    "timepoints = [0,\t17,\t25,\t44,\t66,\t75,\t90]\n",
    "left_values = [0.0,\t0.0,\t0.261,\t1.0,\t1.0,\t1.0,\t1.0]\n",
    "right_values= [0.0,\t0.0,\t0.0,\t0.273,\t0.781,\t1.0,\t1.0]\n",
    "other_values= [0.0,\t0.38,\t0.432,\t0.0,\t0.0,\t0.0,\t0.0]\n",
    "\n",
    "left = pandas.Series(left_values, timepoints)\n",
    "right= pandas.Series(right_values, timepoints)\n",
    "other= pandas.Series(other_values, timepoints)\n",
    "\n",
    "left.dot(other)"
   ]
  },
  {
   "cell_type": "code",
   "execution_count": 5,
   "metadata": {},
   "outputs": [
    {
     "name": "stdout",
     "output_type": "stream",
     "text": [
      "0.44999999999999996\n"
     ]
    },
    {
     "data": {
      "text/plain": [
       "0.45"
      ]
     },
     "execution_count": 5,
     "metadata": {},
     "output_type": "execute_result"
    }
   ],
   "source": [
    "a = math.fsum([.15,.15, .15])\n",
    "print(a)\n",
    "round(a, 2)"
   ]
  },
  {
   "cell_type": "code",
   "execution_count": 7,
   "metadata": {},
   "outputs": [
    {
     "name": "stdout",
     "output_type": "stream",
     "text": [
      "Series([], dtype: float64)\nSeries([], dtype: float64)\n0.0\n"
     ]
    }
   ],
   "source": [
    "a = pandas.Series([])\n",
    "b = pandas.Series([])\n",
    "print(a)\n",
    "print(b)\n",
    "print(a.dot(b))"
   ]
  },
  {
   "cell_type": "code",
   "execution_count": null,
   "metadata": {},
   "outputs": [],
   "source": []
  }
 ],
 "metadata": {
  "kernelspec": {
   "display_name": "Python 2",
   "language": "python",
   "name": "python2"
  },
  "language_info": {
   "codemirror_mode": {
    "name": "ipython",
    "version": 2
   },
   "file_extension": ".py",
   "mimetype": "text/x-python",
   "name": "python",
   "nbconvert_exporter": "python",
   "pygments_lexer": "ipython2",
   "version": "2.7.6"
  }
 },
 "nbformat": 4,
 "nbformat_minor": 0
}
