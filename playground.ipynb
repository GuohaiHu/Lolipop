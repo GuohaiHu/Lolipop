{
 "cells": [
  {
   "cell_type": "code",
   "execution_count": 1,
   "metadata": {
    "collapsed": true
   },
   "outputs": [
    {
     "data": {
      "text/plain": [
       "0.112752"
      ]
     },
     "execution_count": 1,
     "metadata": {},
     "output_type": "execute_result"
    }
   ],
   "source": [
    "import pandas\n",
    "\n",
    "timepoints = [0,\t17,\t25,\t44,\t66,\t75,\t90]\n",
    "left_values = [0.0,\t0.0,\t0.261,\t1.0,\t1.0,\t1.0,\t1.0]\n",
    "right_values= [0.0,\t0.0,\t0.0,\t0.273,\t0.781,\t1.0,\t1.0]\n",
    "other_values= [0.0,\t0.38,\t0.432,\t0.0,\t0.0,\t0.0,\t0.0]\n",
    "\n",
    "left = pandas.Series(left_values, timepoints)\n",
    "right= pandas.Series(right_values, timepoints)\n",
    "other= pandas.Series(other_values, timepoints)\n",
    "\n",
    "left.dot(other)"
   ]
  },
  {
   "cell_type": "code",
   "execution_count": 2,
   "metadata": {},
   "outputs": [
    {
     "data": {
      "text/plain": [
       "[0.0, 0.15, 0.3, 0.44999999999999996, 0.6, 0.75, 0.8999999999999999]"
      ]
     },
     "execution_count": 2,
     "metadata": {},
     "output_type": "execute_result"
    }
   ],
   "source": [
    "frequency_breakpoint = 0.15\n",
    "[frequency_breakpoint*i for i in range(int(1/frequency_breakpoint)+1)]\n"
   ]
  },
  {
   "cell_type": "code",
   "execution_count": 9,
   "metadata": {},
   "outputs": [
    {
     "data": {
      "text/plain": [
       "[0.0, 0.15, 0.3, 0.45, 0.6, 0.75, 0.9]"
      ]
     },
     "execution_count": 9,
     "metadata": {},
     "output_type": "execute_result"
    }
   ],
   "source": [
    "import itertools\n",
    "import math \n",
    "def round(number:float)->float:\n",
    "\tbase = int(number)\n",
    "\tremainder = number-base\n",
    "\tremainder = float(\"{:.2f}\".format(remainder))\n",
    "\treturn base+remainder\n",
    "a = [math.fsum(itertools.repeat(frequency_breakpoint, i)) for i in range(int(1/frequency_breakpoint)+1)]\n",
    "b = [round(i) for i in a]\n",
    "b"
   ]
  },
  {
   "cell_type": "code",
   "execution_count": 6,
   "metadata": {},
   "outputs": [
    {
     "data": {
      "text/plain": [
       "0.44999999999999996"
      ]
     },
     "execution_count": 6,
     "metadata": {},
     "output_type": "execute_result"
    }
   ],
   "source": [
    "math.fsum([.15,.15, .15])"
   ]
  },
  {
   "cell_type": "code",
   "execution_count": null,
   "metadata": {},
   "outputs": [],
   "source": []
  }
 ],
 "metadata": {
  "kernelspec": {
   "display_name": "Python 2",
   "language": "python",
   "name": "python2"
  },
  "language_info": {
   "codemirror_mode": {
    "name": "ipython",
    "version": 2
   },
   "file_extension": ".py",
   "mimetype": "text/x-python",
   "name": "python",
   "nbconvert_exporter": "python",
   "pygments_lexer": "ipython2",
   "version": "2.7.6"
  }
 },
 "nbformat": 4,
 "nbformat_minor": 0
}
