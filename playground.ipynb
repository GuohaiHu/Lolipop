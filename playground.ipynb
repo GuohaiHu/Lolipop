{
 "cells": [
  {
   "cell_type": "code",
   "execution_count": 4,
   "metadata": {
    "collapsed": false
   },
   "outputs": [],
   "source": [
    "import pandas\n",
    "import math\n",
    "\n",
    "population_edited = pandas.read_table('/home/cld100/Documents/github/muller_diagrams/Data files/P1/p1_edited_pop2.csv', sep = ',')\n",
    "population = pandas.read_table('/home/cld100/Documents/github/muller_diagrams/Data files/P1_muller_output/P1_Muller.ggmuller_populations.csv', sep = '\\t')\n",
    "population_edited['Population'] /= 100\n",
    "population['Population'] /= 100\n",
    "population_edited = population_edited.pivot(columns = 'Generation', index = 'Identity', values = 'Population')\n",
    "population = population.pivot(columns = 'Generation', index = 'Identity', values = 'Population')\n",
    "edges_edited = pandas.read_table('/home/cld100/Documents/github/muller_diagrams/Data files/P1/p1edges.csv', sep = ',')"
   ]
  },
  {
   "cell_type": "code",
   "execution_count": null,
   "metadata": {},
   "outputs": [],
   "source": []
  }
 ],
 "metadata": {
  "kernelspec": {
   "display_name": "Python 2",
   "language": "python",
   "name": "python2"
  },
  "language_info": {
   "codemirror_mode": {
    "name": "ipython",
    "version": 2
   },
   "file_extension": ".py",
   "mimetype": "text/x-python",
   "name": "python",
   "nbconvert_exporter": "python",
   "pygments_lexer": "ipython2",
   "version": "2.7.6"
  }
 },
 "nbformat": 4,
 "nbformat_minor": 0
}
