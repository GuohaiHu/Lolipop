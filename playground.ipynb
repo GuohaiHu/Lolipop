{
 "cells": [
  {
   "cell_type": "code",
   "execution_count": 1,
   "metadata": {
    "collapsed": false
   },
   "outputs": [],
   "source": [
    "import pandas\n",
    "import math\n",
    "\n",
    "population_edited = pandas.read_table('/home/cld100/Documents/github/muller_diagrams/Data files/P1/p1_edited_pop2.csv', sep = ',')\n",
    "population = pandas.read_table('/home/cld100/Documents/github/muller_diagrams/Data files/P1_muller_output/P1_Muller.ggmuller_populations.csv', sep = '\\t')\n",
    "population_edited['Population'] /= 100\n",
    "population['Population'] /= 100\n",
    "population_edited = population_edited.pivot(columns = 'Generation', index = 'Identity', values = 'Population')\n",
    "population = population.pivot(columns = 'Generation', index = 'Identity', values = 'Population')\n",
    "edges_edited = pandas.read_table('/home/cld100/Documents/github/muller_diagrams/Data files/P1/p1edges.csv', sep = ',')"
   ]
  },
  {
   "cell_type": "code",
   "execution_count": 2,
   "metadata": {},
   "outputs": [
    {
     "data": {
      "text/plain": [
       "genotype-1            1\ngenotype-2            6\ngenotype-3           14\ngenotype-4            7\ngenotype-5           15\ngenotype-6           12\ngenotype-7           10\ngenotype-8           16\ngenotype-9            5\ngenotype-10         4|8\ngenotype-11         3|2\ngenotype-12       21|18\ngenotype-13     17|9|19\ngenotype-14    13|20|11\ndtype: object"
      ]
     },
     "execution_count": 2,
     "metadata": {},
     "output_type": "execute_result"
    }
   ],
   "source": [
    "genotypes = [f\"genotype-{i}\" for i in range(1,15)]\n",
    "members = ['1', '6', '14', '7', '15', '12', '10', '16', '5', '4|8', '3|2', '21|18', '17|9|19', '13|20|11']\n",
    "\n",
    "series = pandas.Series(members, index = genotypes)\n",
    "\n",
    "series"
   ]
  },
  {
   "cell_type": "code",
   "execution_count": 5,
   "metadata": {},
   "outputs": [
    {
     "data": {
      "text/plain": [
       "'genotype-14'"
      ]
     },
     "execution_count": 5,
     "metadata": {},
     "output_type": "execute_result"
    }
   ],
   "source": [
    "abc = {k:[int(j) for j in v.split('|')] for k, v in series.items()}\n",
    "\n",
    "def find(trajectory_id, genotypes):\n",
    "\tfor k, v in genotypes.items():\n",
    "\t\tif trajectory_id in v:\n",
    "\t\t\treturn k \n",
    "\treturn None\n",
    "\n",
    "find(13, abc)"
   ]
  },
  {
   "cell_type": "code",
   "execution_count": null,
   "metadata": {},
   "outputs": [],
   "source": []
  }
 ],
 "metadata": {
  "kernelspec": {
   "display_name": "Python 2",
   "language": "python",
   "name": "python2"
  },
  "language_info": {
   "codemirror_mode": {
    "name": "ipython",
    "version": 2
   },
   "file_extension": ".py",
   "mimetype": "text/x-python",
   "name": "python",
   "nbconvert_exporter": "python",
   "pygments_lexer": "ipython2",
   "version": "2.7.6"
  }
 },
 "nbformat": 4,
 "nbformat_minor": 0
}
